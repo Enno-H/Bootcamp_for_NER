{
 "cells": [
  {
   "cell_type": "markdown",
   "metadata": {},
   "source": [
    "# Evaluate Sequence Models"
   ]
  },
  {
   "cell_type": "markdown",
   "metadata": {},
   "source": [
    "An important part of every machine learning project is the proper evaluation of the performance of the system. In this post I will show you how evaluate sequence models with token-based labels. This is especially tricky because:\n",
    "\n",
    "* some entity types occur more often then others\n",
    "* entities can span multiple tokens.   \n",
    "The first problem is solved by picking the right metric. We will see what to kinds of metrics are suitable for this. The second problem is solved by agregating the token-level predictions in the right way. For this we first learn about label schemes for multi-token entity recognition.\n"
   ]
  },
  {
   "cell_type": "markdown",
   "metadata": {},
   "source": [
    "## 1. The Label Schema"
   ]
  },
  {
   "cell_type": "markdown",
   "metadata": {},
   "source": [
    "Suppose we are given the following tokenized sentence  \n",
    "`Hawking was a Fellow of the Royal Society, a lifetime member of the Pontifical Academy of Sciences, and a recipient of the Presidential Medal of Freedom, the highest civilian award in the United States.`"
   ]
  },
  {
   "cell_type": "code",
   "execution_count": 2,
   "metadata": {},
   "outputs": [],
   "source": [
    "sentence = [\"Hawking\", \"was\", \"a\", \"Fellow\", \"of\", \"the\", \"Royal\", \"Society\", \",\", \"a\", \"lifetime\", \"member\",\n",
    "            \"of\", \"the\", \"Pontifical\", \"Academy\", \"of\", \"Sciences\", \",\", \"and\", \"a\", \"recipient\", \"of\",\n",
    "            \"the\", \"Presidential\", \"Medal\", \"of\", \"Freedom\", \",\", \"the\", \"highest\", \"civilian\", \"award\",\n",
    "            \"in\", \"the\", \"United\", \"States\", \".\"]"
   ]
  },
  {
   "cell_type": "markdown",
   "metadata": {},
   "source": [
    "We also have the tags “per” for person, “org” for organization, “geo” for geo-political unit and “O” for no entity. So we would probably label the sentence as follows:"
   ]
  },
  {
   "cell_type": "code",
   "execution_count": 3,
   "metadata": {},
   "outputs": [],
   "source": [
    "labels = [\"per\", \"O\", \"O\", \"O\", \"O\", \"O\", \"org\", \"org\", \"O\", \"O\", \"O\", \"O\", \"O\", \"O\", \"org\",\n",
    "          \"org\", \"org\", \"org\", \"O\", \"O\", \"O\", \"O\", \"O\", \"O\", \"O\", \"O\", \"O\", \"O\", \"O\", \"O\",\n",
    "          \"O\", \"O\", \"O\", \"O\", \"O\", \"geo\", \"geo\", \"O\"]"
   ]
  },
  {
   "cell_type": "markdown",
   "metadata": {},
   "source": [
    "But how would we now identify which tokens belong to the same entity? Is Pontifical Academy of Sciences one entity or more? This is why one modifies the label schema to capture the beginning of a entity and the continuation of a entity. We add a B- in the beginning of the entity type if this is the beginning of the entity and a I- if the token represents the continuation of a entity. Before every I- label there has to be a B- or I- labeled token. This means we don’t allow discontinuous entities. This problem would be solved by relationship extraction and we don’t cover it here. The described label schema is called BIO-schema. So our label sequence now looks like this."
   ]
  },
  {
   "cell_type": "code",
   "execution_count": 5,
   "metadata": {},
   "outputs": [],
   "source": [
    "labels_bio = [\"B-per\", \"O\", \"O\", \"O\", \"O\", \"O\", \"B-org\", \"I-org\", \"O\", \"O\", \"O\", \"O\", \"O\", \"O\",\n",
    "              \"B-org\", \"I-org\", \"I-org\", \"I-org\", \"O\", \"O\", \"O\", \"O\", \"O\", \"O\", \"O\", \"O\", \"O\",\n",
    "              \"O\", \"O\", \"O\", \"O\", \"O\", \"O\", \"O\", \"O\", \"B-geo\", \"I-geo\", \"O\"]"
   ]
  },
  {
   "cell_type": "markdown",
   "metadata": {},
   "source": [
    "## 2. The Right Metrics"
   ]
  },
  {
   "cell_type": "markdown",
   "metadata": {},
   "source": [
    "In the above example, you notice, that the “O” label is the most common. So what accuracy would we get if we always predict “O”?"
   ]
  },
  {
   "cell_type": "code",
   "execution_count": 7,
   "metadata": {},
   "outputs": [
    {
     "name": "stdout",
     "output_type": "stream",
     "text": [
      "['O', 'O', 'O', 'O', 'O', 'O', 'O', 'O', 'O', 'O', 'O', 'O', 'O', 'O', 'O', 'O', 'O', 'O', 'O', 'O', 'O', 'O', 'O', 'O', 'O', 'O', 'O', 'O', 'O', 'O', 'O', 'O', 'O', 'O', 'O', 'O', 'O', 'O']\n"
     ]
    }
   ],
   "source": [
    "pred_O = [\"O\" for _ in labels_bio]; print(pred_O)"
   ]
  },
  {
   "cell_type": "code",
   "execution_count": 8,
   "metadata": {},
   "outputs": [
    {
     "name": "stdout",
     "output_type": "stream",
     "text": [
      "Accuracy: 76.3%\n"
     ]
    }
   ],
   "source": [
    "correct_cnt = 0\n",
    "for t, p in zip(labels_bio, pred_O):\n",
    "    if t == p:\n",
    "        correct_cnt +=1\n",
    "accuracy = correct_cnt/len(labels_bio)\n",
    "print(\"Accuracy: {:.1%}\".format(accuracy))"
   ]
  },
  {
   "cell_type": "markdown",
   "metadata": {},
   "source": [
    "This is a pretty high score and quite misleading! Often the accuracy would even be 95% or higher without the model learning anything. To cope with this problem one uses precision, recall and F1-score per class. Let’s see how to compute them. They are computed using the following four numbers:\n",
    "\n",
    "* true positives (tp): number of labels of a class that are predicted correctly\n",
    "* false positives (fp): number of predictions of a class that are wrongly predicted\n",
    "* false negatives (fn): number of predictions that predict a class but are not labeled as belonging to the class"
   ]
  },
  {
   "cell_type": "markdown",
   "metadata": {},
   "source": [
    "## 3. Put it all together"
   ]
  },
  {
   "cell_type": "markdown",
   "metadata": {},
   "source": [
    "To understand out model performance we now consider only full entities by their BIO-tag as correct and then we compute the class-wise precision, recall and F1-score. Luckily there is the neat python package seqeval that does this for us in a standardized way."
   ]
  },
  {
   "cell_type": "code",
   "execution_count": 10,
   "metadata": {},
   "outputs": [],
   "source": [
    "from seqeval.metrics import precision_score, recall_score, f1_score, classification_report"
   ]
  },
  {
   "cell_type": "code",
   "execution_count": 11,
   "metadata": {},
   "outputs": [
    {
     "name": "stdout",
     "output_type": "stream",
     "text": [
      "           precision    recall  f1-score   support\n",
      "\n",
      "      geo       0.00      0.00      0.00         1\n",
      "      per       0.00      0.00      0.00         1\n",
      "      org       0.00      0.00      0.00         2\n",
      "\n",
      "micro avg       0.00      0.00      0.00         4\n",
      "macro avg       0.00      0.00      0.00         4\n",
      "\n"
     ]
    }
   ],
   "source": [
    "print(classification_report(labels_bio, pred_O))"
   ]
  },
  {
   "cell_type": "markdown",
   "metadata": {},
   "source": [
    "Let’s look at a little smarter model:"
   ]
  },
  {
   "cell_type": "code",
   "execution_count": 12,
   "metadata": {},
   "outputs": [],
   "source": [
    "pred_smarter = [\"B-per\", \"O\", \"O\", \"O\", \"O\", \"O\", \"B-org\", \"B-org\", \"O\", \"O\", \"O\", \"O\", \"O\",\n",
    "                \"O\", \"B-org\", \"I-org\", \"B-org\", \"I-org\", \"O\", \"O\", \"O\", \"O\", \"O\", \"O\", \"O\",\n",
    "                \"O\", \"O\", \"O\", \"O\", \"O\", \"O\", \"O\", \"O\", \"O\", \"O\", \"B-geo\", \"I-geo\", \"O\"]"
   ]
  },
  {
   "cell_type": "code",
   "execution_count": 13,
   "metadata": {},
   "outputs": [
    {
     "name": "stdout",
     "output_type": "stream",
     "text": [
      "           precision    recall  f1-score   support\n",
      "\n",
      "      geo       1.00      1.00      1.00         1\n",
      "      per       1.00      1.00      1.00         1\n",
      "      org       0.00      0.00      0.00         2\n",
      "\n",
      "micro avg       0.33      0.50      0.40         4\n",
      "macro avg       0.50      0.50      0.50         4\n",
      "\n"
     ]
    }
   ],
   "source": [
    "print(classification_report(labels_bio, pred_smarter))"
   ]
  },
  {
   "cell_type": "markdown",
   "metadata": {},
   "source": [
    "This way you can get a proper understanding of you sequence model performance. Here you can see how this approach is applied to named entity recognition."
   ]
  },
  {
   "cell_type": "code",
   "execution_count": null,
   "metadata": {},
   "outputs": [],
   "source": []
  }
 ],
 "metadata": {
  "kernelspec": {
   "display_name": "Python 3",
   "language": "python",
   "name": "python3"
  },
  "language_info": {
   "codemirror_mode": {
    "name": "ipython",
    "version": 3
   },
   "file_extension": ".py",
   "mimetype": "text/x-python",
   "name": "python",
   "nbconvert_exporter": "python",
   "pygments_lexer": "ipython3",
   "version": "3.6.8"
  }
 },
 "nbformat": 4,
 "nbformat_minor": 2
}
